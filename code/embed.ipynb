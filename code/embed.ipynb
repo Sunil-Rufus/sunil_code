{
 "cells": [
  {
   "cell_type": "code",
   "execution_count": 1,
   "metadata": {},
   "outputs": [],
   "source": [
    "import pandas as pd\n",
    "import numpy as np\n",
    "import os\n",
    "import pandas as pd\n",
    "from PIL import Image\n",
    "from tqdm import tqdm"
   ]
  },
  {
   "cell_type": "code",
   "execution_count": 2,
   "metadata": {},
   "outputs": [],
   "source": [
    "gpt = pd.read_csv('../Data/new_gpt2.csv')\n",
    "human = pd.read_csv('../Data/new_human.csv')"
   ]
  },
  {
   "cell_type": "code",
   "execution_count": 3,
   "metadata": {},
   "outputs": [
    {
     "data": {
      "text/html": [
       "<div>\n",
       "<style scoped>\n",
       "    .dataframe tbody tr th:only-of-type {\n",
       "        vertical-align: middle;\n",
       "    }\n",
       "\n",
       "    .dataframe tbody tr th {\n",
       "        vertical-align: top;\n",
       "    }\n",
       "\n",
       "    .dataframe thead th {\n",
       "        text-align: right;\n",
       "    }\n",
       "</style>\n",
       "<table border=\"1\" class=\"dataframe\">\n",
       "  <thead>\n",
       "    <tr style=\"text-align: right;\">\n",
       "      <th></th>\n",
       "      <th>Unnamed: 0</th>\n",
       "      <th>Generation</th>\n",
       "      <th>label</th>\n",
       "    </tr>\n",
       "  </thead>\n",
       "  <tbody>\n",
       "    <tr>\n",
       "      <th>0</th>\n",
       "      <td>0</td>\n",
       "      <td>latest headlines on cnn business - google's go...</td>\n",
       "      <td>gpt2</td>\n",
       "    </tr>\n",
       "    <tr>\n",
       "      <th>1</th>\n",
       "      <td>1</td>\n",
       "      <td>china wants to take a victory lap over its han...</td>\n",
       "      <td>gpt2</td>\n",
       "    </tr>\n",
       "    <tr>\n",
       "      <th>2</th>\n",
       "      <td>2</td>\n",
       "      <td>coronavirus disinformation creates challenges ...</td>\n",
       "      <td>gpt2</td>\n",
       "    </tr>\n",
       "    <tr>\n",
       "      <th>3</th>\n",
       "      <td>3</td>\n",
       "      <td>china coronavirus: eating wild animals made il...</td>\n",
       "      <td>gpt2</td>\n",
       "    </tr>\n",
       "    <tr>\n",
       "      <th>4</th>\n",
       "      <td>4</td>\n",
       "      <td>china's economy could shrink for the first tim...</td>\n",
       "      <td>gpt2</td>\n",
       "    </tr>\n",
       "  </tbody>\n",
       "</table>\n",
       "</div>"
      ],
      "text/plain": [
       "   Unnamed: 0                                         Generation label\n",
       "0           0  latest headlines on cnn business - google's go...  gpt2\n",
       "1           1  china wants to take a victory lap over its han...  gpt2\n",
       "2           2  coronavirus disinformation creates challenges ...  gpt2\n",
       "3           3  china coronavirus: eating wild animals made il...  gpt2\n",
       "4           4  china's economy could shrink for the first tim...  gpt2"
      ]
     },
     "execution_count": 3,
     "metadata": {},
     "output_type": "execute_result"
    }
   ],
   "source": [
    "gpt.head()"
   ]
  },
  {
   "cell_type": "code",
   "execution_count": 4,
   "metadata": {},
   "outputs": [
    {
     "data": {
      "text/html": [
       "<div>\n",
       "<style scoped>\n",
       "    .dataframe tbody tr th:only-of-type {\n",
       "        vertical-align: middle;\n",
       "    }\n",
       "\n",
       "    .dataframe tbody tr th {\n",
       "        vertical-align: top;\n",
       "    }\n",
       "\n",
       "    .dataframe thead th {\n",
       "        text-align: right;\n",
       "    }\n",
       "</style>\n",
       "<table border=\"1\" class=\"dataframe\">\n",
       "  <thead>\n",
       "    <tr style=\"text-align: right;\">\n",
       "      <th></th>\n",
       "      <th>Unnamed: 0</th>\n",
       "      <th>Generation</th>\n",
       "      <th>label</th>\n",
       "    </tr>\n",
       "  </thead>\n",
       "  <tbody>\n",
       "    <tr>\n",
       "      <th>0</th>\n",
       "      <td>0</td>\n",
       "      <td>Latest Headlines on CNN Business the great shu...</td>\n",
       "      <td>human</td>\n",
       "    </tr>\n",
       "    <tr>\n",
       "      <th>1</th>\n",
       "      <td>1</td>\n",
       "      <td>China wants to take a victory lap over its han...</td>\n",
       "      <td>human</td>\n",
       "    </tr>\n",
       "    <tr>\n",
       "      <th>2</th>\n",
       "      <td>2</td>\n",
       "      <td>Coronavirus disinformation creates challenges ...</td>\n",
       "      <td>human</td>\n",
       "    </tr>\n",
       "    <tr>\n",
       "      <th>3</th>\n",
       "      <td>3</td>\n",
       "      <td>China coronavirus: Eating wild animals made il...</td>\n",
       "      <td>human</td>\n",
       "    </tr>\n",
       "    <tr>\n",
       "      <th>4</th>\n",
       "      <td>4</td>\n",
       "      <td>China's economy could shrink for the first tim...</td>\n",
       "      <td>human</td>\n",
       "    </tr>\n",
       "  </tbody>\n",
       "</table>\n",
       "</div>"
      ],
      "text/plain": [
       "   Unnamed: 0                                         Generation  label\n",
       "0           0  Latest Headlines on CNN Business the great shu...  human\n",
       "1           1  China wants to take a victory lap over its han...  human\n",
       "2           2  Coronavirus disinformation creates challenges ...  human\n",
       "3           3  China coronavirus: Eating wild animals made il...  human\n",
       "4           4  China's economy could shrink for the first tim...  human"
      ]
     },
     "execution_count": 4,
     "metadata": {},
     "output_type": "execute_result"
    }
   ],
   "source": [
    "human.head()"
   ]
  },
  {
   "cell_type": "code",
   "execution_count": 5,
   "metadata": {},
   "outputs": [],
   "source": [
    "import pandas as pd\n",
    "import torch\n",
    "from transformers import BertTokenizer, BertModel\n"
   ]
  },
  {
   "cell_type": "code",
   "execution_count": 6,
   "metadata": {},
   "outputs": [],
   "source": [
    "tokenizer = BertTokenizer.from_pretrained('bert-base-uncased')\n",
    "model = BertModel.from_pretrained('bert-base-uncased')\n"
   ]
  },
  {
   "cell_type": "code",
   "execution_count": 7,
   "metadata": {},
   "outputs": [],
   "source": [
    "def generate_bert_embeddings(text):\n",
    "    inputs = tokenizer(text, return_tensors='pt', padding=True, truncation=True, max_length=512)\n",
    "    with torch.no_grad():\n",
    "        outputs = model(**inputs)\n",
    "        embeddings = torch.mean(outputs.last_hidden_state, dim=1)  # Mean pooling of token embeddings\n",
    "    return embeddings.numpy()\n"
   ]
  },
  {
   "cell_type": "code",
   "execution_count": 22,
   "metadata": {},
   "outputs": [
    {
     "name": "stdout",
     "output_type": "stream",
     "text": [
      "2386\n"
     ]
    }
   ],
   "source": [
    "val = gpt['Generation'][10]\n",
    "print(len(val))"
   ]
  },
  {
   "cell_type": "code",
   "execution_count": 23,
   "metadata": {},
   "outputs": [
    {
     "data": {
      "text/plain": [
       "'d'"
      ]
     },
     "execution_count": 23,
     "metadata": {},
     "output_type": "execute_result"
    }
   ],
   "source": [
    "val[1066]"
   ]
  },
  {
   "cell_type": "code",
   "execution_count": 27,
   "metadata": {},
   "outputs": [],
   "source": [
    "embedding =generate_bert_embeddings(val)\n"
   ]
  },
  {
   "cell_type": "code",
   "execution_count": 30,
   "metadata": {},
   "outputs": [
    {
     "name": "stdout",
     "output_type": "stream",
     "text": [
      "(1, 768)\n"
     ]
    }
   ],
   "source": [
    "print((embedding.shape))"
   ]
  },
  {
   "cell_type": "code",
   "execution_count": null,
   "metadata": {},
   "outputs": [],
   "source": [
    "print(embedding)"
   ]
  },
  {
   "cell_type": "code",
   "execution_count": 32,
   "metadata": {},
   "outputs": [],
   "source": [
    "import numpy as np\n",
    "\n",
    "def min_max_normalize(embeddings):\n",
    "    # Find the minimum and maximum values in the embeddings\n",
    "    min_val = np.min(embeddings)\n",
    "    max_val = np.max(embeddings)\n",
    "    \n",
    "    # Normalize the embeddings to range [0, 255]\n",
    "    normalized_embeddings = 255 * (embeddings - min_val) / (max_val - min_val)\n",
    "    \n",
    "    return normalized_embeddings.astype(np.uint8)  # Convert to uint8 for integer values between 0 and 255\n",
    "\n",
    "# Assuming embeddings is your embedding vector obtained from generate_bert_embeddings(text)\n",
    "normalized_embeddings = min_max_normalize(embedding)\n"
   ]
  },
  {
   "cell_type": "code",
   "execution_count": null,
   "metadata": {},
   "outputs": [],
   "source": [
    "print(normalized_embeddings)"
   ]
  },
  {
   "cell_type": "code",
   "execution_count": 36,
   "metadata": {},
   "outputs": [],
   "source": [
    "reshaped_embeddings = normalized_embeddings.reshape(32, 24)"
   ]
  },
  {
   "cell_type": "code",
   "execution_count": 37,
   "metadata": {},
   "outputs": [
    {
     "data": {
      "text/plain": [
       "array([[181, 179, 197, 183, 208, 175, 195, 232, 188, 180, 190, 164, 155,\n",
       "        222, 181, 218, 216, 187, 172, 224, 209, 196, 196, 236],\n",
       "       [205, 177, 192, 196, 181, 180, 226, 195, 168, 169, 193, 196, 180,\n",
       "        173, 175, 189, 142, 166, 158, 191, 195, 162, 220, 204],\n",
       "       [198, 182, 161, 204, 190, 171, 216, 219, 173, 160, 155, 162, 184,\n",
       "        182, 196, 155, 199, 195, 187, 219, 148, 160, 167, 178],\n",
       "       [183, 181, 191, 185, 176, 194, 194, 188, 171, 220, 171, 218, 197,\n",
       "        188, 201, 220, 166, 217, 187, 188, 199, 188, 194, 188],\n",
       "       [219, 194, 161, 216, 205, 166, 203, 197, 192, 172, 201, 188, 176,\n",
       "        210, 193, 171, 184, 162, 177, 198, 178, 169, 199, 197],\n",
       "       [207, 179, 186, 232, 167, 184, 176, 198, 173, 182, 211, 210, 198,\n",
       "        174, 176, 214, 174, 170, 161, 206, 206, 157, 214, 205],\n",
       "       [196, 188, 174, 169, 205, 192, 201, 190, 191, 175, 183, 182, 173,\n",
       "        201, 194, 186, 219, 174, 192, 197, 191, 199, 189, 234],\n",
       "       [180, 205, 176, 195, 252, 174, 218, 189, 192, 197, 213, 202, 140,\n",
       "        208, 196, 196, 194, 169, 201, 173, 204, 174, 180, 171],\n",
       "       [173, 193, 196, 181, 183, 192, 168, 175, 177, 193, 198, 195, 189,\n",
       "        159, 188, 159, 186, 214, 169, 201, 185, 188, 184, 193],\n",
       "       [181, 185, 188, 186, 174, 194, 157, 218, 182, 238, 192, 167, 189,\n",
       "        228, 187, 180, 231, 171, 167, 185, 155, 176, 188, 154],\n",
       "       [177, 213, 198, 184, 188, 178, 186, 186, 179, 168, 156, 171, 184,\n",
       "        166, 178, 171, 188, 186, 186, 190, 198, 194, 174, 198],\n",
       "       [167, 153, 195, 209, 191, 187, 199, 181, 186, 229, 172, 173, 204,\n",
       "        210, 192, 174, 196, 212, 171, 194, 171, 166, 202, 190],\n",
       "       [180, 171, 175, 196, 177, 179, 183, 197, 201, 185, 214, 181, 175,\n",
       "        163, 199, 207, 176, 200, 197, 170,   0, 201, 195, 177],\n",
       "       [211, 186, 178, 171, 162, 194, 189, 167, 198, 188, 204, 181, 194,\n",
       "        160, 185, 215, 171, 158, 191, 184, 208, 222, 172, 167],\n",
       "       [184, 180, 179, 156, 199, 194, 191, 198, 194, 160, 158, 171, 175,\n",
       "        138, 194, 181, 242, 180, 187, 180, 186, 201, 206, 193],\n",
       "       [157, 198, 182, 194, 217, 213, 177, 164, 189, 182, 162, 198, 199,\n",
       "        164, 166, 184, 198, 188, 186, 214, 156, 177, 192, 166],\n",
       "       [205, 170, 195, 184, 175, 165, 184, 175, 206, 149, 200, 198, 183,\n",
       "        155, 214, 193, 206, 188, 195, 177, 208, 194, 193, 177],\n",
       "       [188, 175, 219, 158, 207, 180, 178, 205, 193, 178, 206, 165, 231,\n",
       "        165, 184, 193, 216, 255, 180, 182, 191, 223, 174, 176],\n",
       "       [184, 189, 174, 189, 194, 186, 173, 186, 186, 208, 211, 197, 190,\n",
       "        152, 178, 206, 194, 203, 193, 174, 174, 216, 205, 192],\n",
       "       [176, 203, 155, 195, 173, 179, 199, 223, 200, 184, 192, 145, 191,\n",
       "        199, 206, 193, 177, 219, 189, 180, 174, 206, 178, 177],\n",
       "       [185, 174, 180, 208, 183, 169, 174, 215, 178, 180, 164, 172, 209,\n",
       "        200, 206, 166, 175, 180, 195, 210, 175, 185, 173, 176],\n",
       "       [197, 174, 179, 206, 215, 190, 183, 197, 183, 176, 187, 214, 193,\n",
       "        199, 154, 174, 160, 209, 201, 159, 184, 167, 161, 204],\n",
       "       [155, 178, 193, 183, 159, 179, 184, 187, 176, 177, 199, 130, 197,\n",
       "        193, 193, 206, 196, 146, 189, 188, 187, 191, 174, 182],\n",
       "       [213, 182, 196, 231, 179, 217, 179, 202, 176, 180, 185, 149, 166,\n",
       "        174, 176, 186, 175, 174, 196, 193, 221, 182, 190, 206],\n",
       "       [190, 158, 193, 171, 191, 184, 181, 202, 193, 165, 191, 155, 165,\n",
       "        183, 177, 166, 204, 154, 196, 225, 194, 175, 205, 182],\n",
       "       [183, 205, 177, 198, 230, 207, 188, 188, 185, 193, 204, 206, 179,\n",
       "        192, 195, 155, 191, 202, 182, 164, 232, 201, 167, 190],\n",
       "       [181, 194, 189, 179, 205, 194, 212, 198, 203, 218, 172, 186, 174,\n",
       "        209, 179, 223, 165, 214, 180, 175, 194, 202, 198, 185],\n",
       "       [209, 190, 206, 211, 208, 197, 203, 179, 229, 216, 212, 196, 180,\n",
       "        184, 199, 194, 216, 210, 183, 227, 204, 206, 222, 158],\n",
       "       [208, 200, 191, 152, 189, 191, 204, 183, 189, 164, 198, 224, 177,\n",
       "        180, 178, 203, 168, 182, 170, 178, 166, 173, 187, 169],\n",
       "       [170, 172, 195, 189, 197, 180, 190, 176, 217, 190, 219, 194, 204,\n",
       "        162, 167, 196, 186, 187, 186, 204, 172, 184, 197, 220],\n",
       "       [162, 190, 181, 200, 188, 185, 184, 185, 175, 158, 185, 200, 181,\n",
       "        192, 217, 205, 179, 188, 173, 203, 191, 184, 176, 173],\n",
       "       [190, 210, 155, 179, 219, 203, 186, 174, 252, 178, 170, 183, 190,\n",
       "        176, 171, 184, 206, 177, 184, 176, 201, 174, 186, 198]],\n",
       "      dtype=uint8)"
      ]
     },
     "execution_count": 37,
     "metadata": {},
     "output_type": "execute_result"
    }
   ],
   "source": [
    "reshaped_embeddings"
   ]
  },
  {
   "cell_type": "code",
   "execution_count": 38,
   "metadata": {},
   "outputs": [
    {
     "data": {
      "image/png": "[encoded data removed]",
      "text/plain": [
       "<Figure size 640x480 with 1 Axes>"
      ]
     },
     "metadata": {},
     "output_type": "display_data"
    }
   ],
   "source": [
    "import matplotlib.pyplot as plt\n",
    "plt.imshow(reshaped_embeddings, cmap='gray')  # Assuming grayscale image\n",
    "plt.axis('off')  # Hide axes\n",
    "plt.show()"
   ]
  },
  {
   "cell_type": "code",
   "execution_count": null,
   "metadata": {},
   "outputs": [],
   "source": []
  },
  {
   "cell_type": "code",
   "execution_count": 23,
   "metadata": {},
   "outputs": [
    {
     "data": {
      "text/html": [
       "<div>\n",
       "<style scoped>\n",
       "    .dataframe tbody tr th:only-of-type {\n",
       "        vertical-align: middle;\n",
       "    }\n",
       "\n",
       "    .dataframe tbody tr th {\n",
       "        vertical-align: top;\n",
       "    }\n",
       "\n",
       "    .dataframe thead th {\n",
       "        text-align: right;\n",
       "    }\n",
       "</style>\n",
       "<table border=\"1\" class=\"dataframe\">\n",
       "  <thead>\n",
       "    <tr style=\"text-align: right;\">\n",
       "      <th></th>\n",
       "      <th>Unnamed: 0</th>\n",
       "      <th>Generation</th>\n",
       "      <th>label</th>\n",
       "      <th>embeddings</th>\n",
       "    </tr>\n",
       "  </thead>\n",
       "  <tbody>\n",
       "    <tr>\n",
       "      <th>0</th>\n",
       "      <td>0</td>\n",
       "      <td>latest headlines on cnn business - google's go...</td>\n",
       "      <td>gpt2</td>\n",
       "      <td>[[-0.13570294, -0.04754151, 0.352358, 0.226810...</td>\n",
       "    </tr>\n",
       "    <tr>\n",
       "      <th>1</th>\n",
       "      <td>1</td>\n",
       "      <td>china wants to take a victory lap over its han...</td>\n",
       "      <td>gpt2</td>\n",
       "      <td>[[-0.39471674, -0.15344626, 0.09726799, -0.194...</td>\n",
       "    </tr>\n",
       "    <tr>\n",
       "      <th>2</th>\n",
       "      <td>2</td>\n",
       "      <td>coronavirus disinformation creates challenges ...</td>\n",
       "      <td>gpt2</td>\n",
       "      <td>[[-0.2964845, 0.009268108, 0.013801753, -0.065...</td>\n",
       "    </tr>\n",
       "    <tr>\n",
       "      <th>3</th>\n",
       "      <td>3</td>\n",
       "      <td>china coronavirus: eating wild animals made il...</td>\n",
       "      <td>gpt2</td>\n",
       "      <td>[[-0.05371213, 0.023594754, 0.10417935, -0.185...</td>\n",
       "    </tr>\n",
       "    <tr>\n",
       "      <th>4</th>\n",
       "      <td>4</td>\n",
       "      <td>china's economy could shrink for the first tim...</td>\n",
       "      <td>gpt2</td>\n",
       "      <td>[[-0.6155898, -0.17937079, 0.20588559, 0.13464...</td>\n",
       "    </tr>\n",
       "  </tbody>\n",
       "</table>\n",
       "</div>"
      ],
      "text/plain": [
       "   Unnamed: 0                                         Generation label  \\\n",
       "0           0  latest headlines on cnn business - google's go...  gpt2   \n",
       "1           1  china wants to take a victory lap over its han...  gpt2   \n",
       "2           2  coronavirus disinformation creates challenges ...  gpt2   \n",
       "3           3  china coronavirus: eating wild animals made il...  gpt2   \n",
       "4           4  china's economy could shrink for the first tim...  gpt2   \n",
       "\n",
       "                                          embeddings  \n",
       "0  [[-0.13570294, -0.04754151, 0.352358, 0.226810...  \n",
       "1  [[-0.39471674, -0.15344626, 0.09726799, -0.194...  \n",
       "2  [[-0.2964845, 0.009268108, 0.013801753, -0.065...  \n",
       "3  [[-0.05371213, 0.023594754, 0.10417935, -0.185...  \n",
       "4  [[-0.6155898, -0.17937079, 0.20588559, 0.13464...  "
      ]
     },
     "execution_count": 23,
     "metadata": {},
     "output_type": "execute_result"
    }
   ],
   "source": [
    "gpt.head()"
   ]
  },
  {
   "cell_type": "code",
   "execution_count": 15,
   "metadata": {},
   "outputs": [],
   "source": [
    "human['embeddings'] = human['Generation'].apply(generate_bert_embeddings)"
   ]
  },
  {
   "cell_type": "code",
   "execution_count": 24,
   "metadata": {},
   "outputs": [
    {
     "data": {
      "text/html": [
       "<div>\n",
       "<style scoped>\n",
       "    .dataframe tbody tr th:only-of-type {\n",
       "        vertical-align: middle;\n",
       "    }\n",
       "\n",
       "    .dataframe tbody tr th {\n",
       "        vertical-align: top;\n",
       "    }\n",
       "\n",
       "    .dataframe thead th {\n",
       "        text-align: right;\n",
       "    }\n",
       "</style>\n",
       "<table border=\"1\" class=\"dataframe\">\n",
       "  <thead>\n",
       "    <tr style=\"text-align: right;\">\n",
       "      <th></th>\n",
       "      <th>Unnamed: 0</th>\n",
       "      <th>Generation</th>\n",
       "      <th>label</th>\n",
       "      <th>embeddings</th>\n",
       "    </tr>\n",
       "  </thead>\n",
       "  <tbody>\n",
       "    <tr>\n",
       "      <th>0</th>\n",
       "      <td>0</td>\n",
       "      <td>Latest Headlines on CNN Business the great shu...</td>\n",
       "      <td>human</td>\n",
       "      <td>[[-0.022988277, -0.16985631, 0.17306148, 0.239...</td>\n",
       "    </tr>\n",
       "    <tr>\n",
       "      <th>1</th>\n",
       "      <td>1</td>\n",
       "      <td>China wants to take a victory lap over its han...</td>\n",
       "      <td>human</td>\n",
       "      <td>[[-0.21338622, -0.043899264, 0.1525899, -0.207...</td>\n",
       "    </tr>\n",
       "    <tr>\n",
       "      <th>2</th>\n",
       "      <td>2</td>\n",
       "      <td>Coronavirus disinformation creates challenges ...</td>\n",
       "      <td>human</td>\n",
       "      <td>[[0.060061373, 0.027683925, 0.17691158, -0.114...</td>\n",
       "    </tr>\n",
       "    <tr>\n",
       "      <th>3</th>\n",
       "      <td>3</td>\n",
       "      <td>China coronavirus: Eating wild animals made il...</td>\n",
       "      <td>human</td>\n",
       "      <td>[[-0.056837402, 0.029993335, 0.02434342, -0.00...</td>\n",
       "    </tr>\n",
       "    <tr>\n",
       "      <th>4</th>\n",
       "      <td>4</td>\n",
       "      <td>China's economy could shrink for the first tim...</td>\n",
       "      <td>human</td>\n",
       "      <td>[[-0.40924907, -0.16960874, 0.35779798, 0.0272...</td>\n",
       "    </tr>\n",
       "  </tbody>\n",
       "</table>\n",
       "</div>"
      ],
      "text/plain": [
       "   Unnamed: 0                                         Generation  label  \\\n",
       "0           0  Latest Headlines on CNN Business the great shu...  human   \n",
       "1           1  China wants to take a victory lap over its han...  human   \n",
       "2           2  Coronavirus disinformation creates challenges ...  human   \n",
       "3           3  China coronavirus: Eating wild animals made il...  human   \n",
       "4           4  China's economy could shrink for the first tim...  human   \n",
       "\n",
       "                                          embeddings  \n",
       "0  [[-0.022988277, -0.16985631, 0.17306148, 0.239...  \n",
       "1  [[-0.21338622, -0.043899264, 0.1525899, -0.207...  \n",
       "2  [[0.060061373, 0.027683925, 0.17691158, -0.114...  \n",
       "3  [[-0.056837402, 0.029993335, 0.02434342, -0.00...  \n",
       "4  [[-0.40924907, -0.16960874, 0.35779798, 0.0272...  "
      ]
     },
     "execution_count": 24,
     "metadata": {},
     "output_type": "execute_result"
    }
   ],
   "source": [
    "human.head()"
   ]
  },
  {
   "cell_type": "code",
   "execution_count": 17,
   "metadata": {},
   "outputs": [
    {
     "data": {
      "text/plain": [
       "1066"
      ]
     },
     "execution_count": 17,
     "metadata": {},
     "output_type": "execute_result"
    }
   ],
   "source": [
    "len(gpt)"
   ]
  },
  {
   "cell_type": "code",
   "execution_count": 26,
   "metadata": {},
   "outputs": [],
   "source": [
    "sample_encoding = gpt['embeddings'].iloc[0]"
   ]
  },
  {
   "cell_type": "code",
   "execution_count": 29,
   "metadata": {},
   "outputs": [
    {
     "name": "stdout",
     "output_type": "stream",
     "text": [
      "(1, 768)\n"
     ]
    }
   ],
   "source": [
    "print(sample_encoding.shape)"
   ]
  },
  {
   "cell_type": "code",
   "execution_count": 30,
   "metadata": {},
   "outputs": [],
   "source": [
    "\n",
    "def textToImageChannelAvg(text, size = 32):\n",
    "    text += '0'*(len(text) % pow(32, 2))\n",
    "    \n",
    "    cgr_chunks = []\n",
    "    i = 0\n",
    "    while i < len(text):\n",
    "        cgr_chunks.append(text[i:min(i + pow(size,2), len(text) - i)])\n",
    "        i += pow(size, 2)\n",
    "\n",
    "    images = []\n",
    "    for chunk in cgr_chunks:\n",
    "        if len(chunk) < pow(size, 2):\n",
    "            chunk += \"0\" * (pow(size, 2) - len(chunk))\n",
    "        numbers_array = np.array([int(char) for char in chunk])\n",
    "        scaled_array = (numbers_array / 3) * 255\n",
    "        grayscale_image = scaled_array.reshape(size, size).astype(np.uint8)\n",
    "        images.append(grayscale_image)\n",
    "\n",
    "    stacked_image = np.stack(images, axis = 0)\n",
    "    avg_image = np.mean(stacked_image, axis = 0)\n",
    "\n",
    "    return avg_image\n",
    "\n",
    "def textToImage(text, size = 32):\n",
    "    text += '0'*(len(text) % pow(32, 2))\n",
    "    \n",
    "    cgr_chunks = []\n",
    "    i = 0\n",
    "    while i < len(text):\n",
    "        cgr_chunks.append(text[i:min(i + pow(size,2), len(text) - i)])\n",
    "        i += pow(size, 2)\n",
    "\n",
    "    images = []\n",
    "    for chunk in cgr_chunks:\n",
    "        if len(chunk) < pow(size, 2):\n",
    "            chunk += \"0\" * (pow(size, 2) - len(chunk))\n",
    "        numbers_array = np.array([int(char) for char in chunk])\n",
    "        scaled_array = (numbers_array / 3) * 255\n",
    "        grayscale_image = scaled_array.reshape(size, size).astype(np.uint8)\n",
    "        images.append(grayscale_image)\n",
    "\n",
    "    stacked_image = np.stack(images, axis = 0)\n",
    "    # avg_image = np.mean(stacked_image, axis = 0)\n",
    "\n",
    "    return stacked_image\n"
   ]
  },
  {
   "cell_type": "code",
   "execution_count": 39,
   "metadata": {},
   "outputs": [],
   "source": [
    "import matplotlib.pyplot as plt\n",
    "import numpy as np\n",
    "\n",
    "def create_single_channel_image(embedding):\n",
    "    # Reshape the embedding vector into a square matrix\n",
    "    side_length = int(np.sqrt(len(embedding)))\n",
    "    embedding_matrix = embedding.reshape((side_length, side_length))\n",
    "\n",
    "    # Normalize the values in the embedding matrix to the range [0, 1]\n",
    "    embedding_matrix_normalized = (embedding_matrix - np.min(embedding_matrix)) / (np.max(embedding_matrix) - np.min(embedding_matrix))\n",
    "\n",
    "    # Create the single-channel image\n",
    "    plt.figure(figsize=(6, 6))\n",
    "    plt.imshow(embedding_matrix_normalized, cmap='gray')\n",
    "    plt.axis('off')\n",
    "    plt.title('Single Channel Image from BERT Embedding')\n",
    "    plt.show()"
   ]
  },
  {
   "cell_type": "code",
   "execution_count": 40,
   "metadata": {},
   "outputs": [
    {
     "ename": "ValueError",
     "evalue": "cannot reshape array of size 768 into shape (1,1)",
     "output_type": "error",
     "traceback": [
      "\u001b[0;31m---------------------------------------------------------------------------\u001b[0m",
      "\u001b[0;31mValueError\u001b[0m                                Traceback (most recent call last)",
      "Cell \u001b[0;32mIn[40], line 1\u001b[0m\n\u001b[0;32m----> 1\u001b[0m \u001b[43mcreate_single_channel_image\u001b[49m\u001b[43m(\u001b[49m\u001b[43msample_encoding\u001b[49m\u001b[43m)\u001b[49m\n",
      "Cell \u001b[0;32mIn[39], line 7\u001b[0m, in \u001b[0;36mcreate_single_channel_image\u001b[0;34m(embedding)\u001b[0m\n\u001b[1;32m      4\u001b[0m \u001b[38;5;28;01mdef\u001b[39;00m \u001b[38;5;21mcreate_single_channel_image\u001b[39m(embedding):\n\u001b[1;32m      5\u001b[0m     \u001b[38;5;66;03m# Reshape the embedding vector into a square matrix\u001b[39;00m\n\u001b[1;32m      6\u001b[0m     side_length \u001b[38;5;241m=\u001b[39m \u001b[38;5;28mint\u001b[39m(np\u001b[38;5;241m.\u001b[39msqrt(\u001b[38;5;28mlen\u001b[39m(embedding)))\n\u001b[0;32m----> 7\u001b[0m     embedding_matrix \u001b[38;5;241m=\u001b[39m \u001b[43membedding\u001b[49m\u001b[38;5;241;43m.\u001b[39;49m\u001b[43mreshape\u001b[49m\u001b[43m(\u001b[49m\u001b[43m(\u001b[49m\u001b[43mside_length\u001b[49m\u001b[43m,\u001b[49m\u001b[43m \u001b[49m\u001b[43mside_length\u001b[49m\u001b[43m)\u001b[49m\u001b[43m)\u001b[49m\n\u001b[1;32m      9\u001b[0m     \u001b[38;5;66;03m# Normalize the values in the embedding matrix to the range [0, 1]\u001b[39;00m\n\u001b[1;32m     10\u001b[0m     embedding_matrix_normalized \u001b[38;5;241m=\u001b[39m (embedding_matrix \u001b[38;5;241m-\u001b[39m np\u001b[38;5;241m.\u001b[39mmin(embedding_matrix)) \u001b[38;5;241m/\u001b[39m (np\u001b[38;5;241m.\u001b[39mmax(embedding_matrix) \u001b[38;5;241m-\u001b[39m np\u001b[38;5;241m.\u001b[39mmin(embedding_matrix))\n",
      "\u001b[0;31mValueError\u001b[0m: cannot reshape array of size 768 into shape (1,1)"
     ]
    }
   ],
   "source": [
    "create_single_channel_image(sample_encoding)\n"
   ]
  },
  {
   "cell_type": "code",
   "execution_count": 43,
   "metadata": {},
   "outputs": [
    {
     "data": {
      "text/plain": [
       "array([-1.35702938e-01, -4.75415103e-02,  3.52358013e-01,  2.26810813e-01,\n",
       "        4.56229031e-01, -3.12039346e-01,  8.87961239e-02,  5.36756516e-01,\n",
       "        9.96031389e-02, -2.34639660e-01,  8.48063678e-02, -3.52573007e-01,\n",
       "       -3.50999117e-01,  3.33061248e-01, -1.15289330e-01,  2.11238071e-01,\n",
       "        2.17125610e-01,  1.90012231e-01, -6.86936155e-02,  5.09850442e-01,\n",
       "        2.63489008e-01,  1.77194998e-01,  8.20820406e-02,  5.59798539e-01,\n",
       "        2.86695689e-01,  3.62832285e-02, -7.83625245e-02,  2.24691033e-02,\n",
       "       -1.46201134e-01, -3.50797325e-02,  5.64518034e-01,  1.08548641e-01,\n",
       "       -3.16056579e-01, -5.28842986e-01,  2.11202186e-02, -1.38681978e-01,\n",
       "       -1.43910751e-01, -2.50794470e-01, -2.22126439e-01,  3.16692799e-01,\n",
       "       -7.05956697e-01, -4.20863092e-01, -2.95314252e-01,  2.05958366e-01,\n",
       "       -2.22018078e-01, -1.30999818e-01,  3.58871609e-01,  2.76497304e-01,\n",
       "        2.62389451e-01, -2.71270256e-02, -1.17842205e-01,  2.29672849e-01,\n",
       "        1.91639178e-02, -1.33986264e-01,  1.14677794e-01,  6.09501183e-01,\n",
       "       -3.61351743e-02, -5.05656719e-01, -6.84338152e-01, -2.53891349e-01,\n",
       "        2.07939614e-02, -1.04789257e-01,  2.48148441e-02, -5.27478099e-01,\n",
       "        1.05318531e-01, -2.41638079e-01,  6.82660416e-02,  4.92357552e-01,\n",
       "       -9.06290233e-01, -1.75628304e-01, -3.34782898e-01, -4.27437842e-01,\n",
       "        1.69020459e-01, -3.23060483e-01, -2.47623950e-01,  1.43761173e-01,\n",
       "       -1.66376218e-01,  2.68911719e-01,  3.20531905e-01, -2.71155350e-02,\n",
       "       -3.77502859e-01,  3.33612978e-01, -1.20808877e-01,  8.04919899e-01,\n",
       "        3.05163376e-02,  8.23093951e-02, -2.48710617e-01,  1.70628056e-01,\n",
       "       -5.92458069e-01,  5.34110188e-01,  2.23440096e-01, -4.88552868e-01,\n",
       "        3.21242958e-01,  2.39858493e-01,  2.93753684e-01, -1.40213087e-01,\n",
       "        1.01346307e-01,  2.80834511e-02, -4.38930929e-01,  6.51788175e-01,\n",
       "        4.01286960e-01, -5.66425085e-01,  3.96032900e-01,  1.57084092e-01,\n",
       "       -1.26709100e-02, -1.86871126e-01,  3.17299277e-01,  1.15301199e-01,\n",
       "        3.99437435e-02,  5.95578730e-01,  1.91151723e-01, -1.03054360e-01,\n",
       "       -1.68288514e-01, -2.65465051e-01, -1.35317773e-01, -2.48644240e-02,\n",
       "       -6.97360635e-02, -1.30449533e-01,  2.44090319e-01,  1.22862421e-02,\n",
       "        2.74678946e-01,  1.89023986e-02,  1.92330152e-01,  5.38622677e-01,\n",
       "        3.01280208e-02,  2.16976449e-01, -2.56103426e-01,  2.47157484e-01,\n",
       "        1.90285772e-01, -3.86232845e-02,  4.95742500e-01,  3.74740988e-01,\n",
       "        3.27891201e-01, -4.38075244e-01, -8.16424787e-02,  3.40777963e-01,\n",
       "       -1.81369096e-01, -4.72950637e-01, -3.36549252e-01,  4.23500270e-01,\n",
       "        2.91847765e-01, -1.36174098e-01,  3.04785311e-01,  2.53934920e-01,\n",
       "        1.89957321e-01, -8.02052692e-02, -1.91600397e-01, -3.03132147e-01,\n",
       "       -3.12000103e-02, -1.26656786e-01,  4.96138027e-03,  2.87868977e-01,\n",
       "       -6.34595603e-02, -3.23195159e-01, -1.60555720e-01,  1.87062815e-01,\n",
       "       -6.37792230e-01,  8.72206315e-03,  8.30017123e-03, -2.08776280e-01,\n",
       "        5.37332408e-02,  3.94715182e-02, -5.57638034e-02,  2.48775929e-01,\n",
       "       -1.16309732e-01,  1.03282392e-01,  4.42053974e-02,  7.29010582e-01,\n",
       "       -4.14314330e-01,  9.30292830e-02, -5.21544926e-02, -3.06464359e-02,\n",
       "        1.13638568e+00,  1.79968446e-01,  2.64317572e-01,  2.89915979e-01,\n",
       "        3.37257683e-01,  4.41409908e-02,  2.45434538e-01,  1.95391566e-01,\n",
       "       -6.65428102e-01,  2.46141657e-01,  1.56379074e-01, -4.12154682e-02,\n",
       "        3.61986518e-01, -2.69803494e-01,  3.41315657e-01, -4.06161457e-01,\n",
       "        1.99158221e-01, -2.28337720e-01, -2.12783843e-01, -1.96268693e-01,\n",
       "       -2.82032609e-01,  1.36993881e-02,  1.74394742e-01, -2.58831471e-01,\n",
       "       -9.69079807e-02, -1.43633038e-01, -3.33950043e-01, -3.58046949e-01,\n",
       "        1.08799096e-02, -5.13082184e-02,  3.34603429e-01,  1.44126147e-01,\n",
       "       -3.94248128e-01, -7.13731825e-01,  2.58026719e-02, -3.23361903e-01,\n",
       "       -5.04350781e-01,  2.00344399e-01, -9.34501737e-02,  1.55466348e-01,\n",
       "        2.19760239e-01,  1.75723091e-01, -1.38950586e-01,  1.80995479e-01,\n",
       "       -2.69172639e-01, -2.55854964e-01, -6.30533621e-02, -5.78831136e-02,\n",
       "       -1.61722213e-01,  5.93669415e-02, -6.93365574e-01,  4.89215076e-01,\n",
       "       -2.76642799e-01,  8.66088390e-01,  1.94933474e-01, -5.87958932e-01,\n",
       "        3.45496029e-01,  6.30769551e-01, -2.27532610e-01, -1.70738965e-01,\n",
       "        3.84792209e-01, -4.31389183e-01, -1.21453054e-01,  6.33865222e-02,\n",
       "       -2.35527143e-01, -2.89411128e-01,  8.61676317e-03, -3.36152107e-01,\n",
       "       -3.25168192e-01,  3.83208483e-01,  4.58450407e-01,  2.90833320e-02,\n",
       "        2.28636801e-01, -1.86605051e-01, -1.49570644e-01, -1.16746835e-01,\n",
       "       -7.73622841e-02, -3.32764268e-01, -2.68651396e-01, -4.50853467e-01,\n",
       "        1.20703213e-01, -2.12164909e-01, -3.77688259e-02, -5.73267162e-01,\n",
       "        1.54830115e-02, -1.47197366e-01, -8.13243464e-02,  1.91080377e-01,\n",
       "        4.71074104e-01, -4.15608771e-02, -1.15306318e-01,  1.65895551e-01,\n",
       "       -4.56474066e-01, -7.44434655e-01,  2.23105893e-01,  5.34133315e-01,\n",
       "        1.69084936e-01,  3.08045864e-01, -5.25986105e-02, -1.02110608e-02,\n",
       "       -1.24158384e-02,  9.44050610e-01, -2.74636954e-01, -1.59881294e-01,\n",
       "        3.11658919e-01,  3.53219718e-01,  1.03417113e-01, -2.22178549e-01,\n",
       "        2.19599992e-01,  8.78128707e-01, -2.45356709e-01, -3.00023798e-02,\n",
       "       -2.03924686e-01, -3.51794302e-01,  4.68403310e-01,  2.04492643e-01,\n",
       "       -2.67135292e-01, -4.60784674e-01, -1.41287614e-02, -1.27022684e-01,\n",
       "       -1.47329018e-01, -2.15490952e-01,  2.62004822e-01,  6.54449314e-02,\n",
       "        3.11316490e-01, -7.66694173e-02, -1.00636959e-01, -2.77505040e-01,\n",
       "       -1.98702052e-01, -4.80263948e-01,  1.52111694e-01,  3.82264405e-02,\n",
       "       -8.60673785e-02, -1.27502410e-02,  1.17416024e-01, -3.95513713e-01,\n",
       "       -3.05861735e+00,  1.82221845e-01,  2.08096832e-01, -2.08616138e-01,\n",
       "       -7.34049156e-02, -3.00629616e-01, -2.02435821e-01, -1.70231402e-01,\n",
       "       -4.44022596e-01,  2.69452304e-01, -1.91523701e-01, -3.23035598e-01,\n",
       "        2.19826430e-01,  1.21419534e-01,  4.34817463e-01,  3.85942832e-02,\n",
       "       -1.99993819e-01, -1.14643678e-01, -2.56815284e-01,  6.20860979e-02,\n",
       "       -2.36367434e-01, -3.12384695e-01,  2.48684868e-01, -1.11410148e-01,\n",
       "        4.53382701e-01,  4.32150573e-01, -1.12213768e-01, -3.23085785e-01,\n",
       "       -2.49383822e-01,  1.09961201e-02, -1.11158058e-01, -1.36113837e-01,\n",
       "       -9.89462212e-02,  2.95580894e-01,  1.04416788e-01,  6.19470105e-02,\n",
       "        9.78989154e-02, -3.11756998e-01, -4.28381652e-01, -1.58596411e-01,\n",
       "       -8.02817121e-02, -4.33466166e-01, -4.53179628e-02, -1.12992942e-01,\n",
       "        8.61251354e-01, -4.78496999e-01,  8.52589309e-02,  7.26074651e-02,\n",
       "        3.86259705e-02,  1.14004195e-01,  8.57169330e-02, -3.31979841e-02,\n",
       "       -7.33625174e-01,  9.43418145e-02, -2.06060275e-01, -2.04271972e-01,\n",
       "        3.14175606e-01,  4.19543833e-01, -8.80617201e-02, -4.31369722e-01,\n",
       "       -1.89732283e-01, -2.28497580e-01, -5.83101988e-01, -2.23343164e-01,\n",
       "        2.66122192e-01, -4.16914105e-01, -2.67580777e-01, -3.50825608e-01,\n",
       "        1.18415877e-01,  2.91863471e-01, -2.26860531e-02,  5.17814696e-01,\n",
       "       -4.59762961e-01, -2.22414732e-01,  1.33693174e-01, -1.44358754e-01,\n",
       "        1.14940725e-01, -2.23675147e-01, -1.54513940e-01,  2.25541785e-01,\n",
       "       -4.47216660e-01, -5.16119421e-01, -1.11828431e-01, -7.38218799e-02,\n",
       "       -9.93560702e-02, -9.86886501e-01, -2.91451514e-01,  1.21120792e-02,\n",
       "        5.26166074e-02, -3.84549081e-01,  6.22288704e-01,  5.69981039e-02,\n",
       "        1.50838628e-01,  1.17795482e-01,  1.49843037e-01, -2.42347762e-01,\n",
       "        3.71554166e-01, -7.98972845e-02,  6.20868355e-02, -3.16036165e-01,\n",
       "        3.87411684e-01,  1.20403551e-01,  6.04663074e-01, -1.18648432e-01,\n",
       "        2.64633924e-01,  8.46094545e-03, -1.73662096e-01,  1.48764879e-01,\n",
       "       -1.42188862e-01,  4.45652455e-02, -3.14249732e-02, -3.44007760e-01,\n",
       "        2.83805728e-01,  1.45089366e-02, -1.71449482e-01, -3.31869721e-01,\n",
       "        2.75811166e-01,  8.08613479e-01, -5.08724153e-02, -2.96789110e-01,\n",
       "       -1.17573306e-01,  6.52259290e-01,  1.27594754e-01, -5.92691839e-01,\n",
       "       -4.16840672e-01,  1.84033751e-01, -4.23838705e-01, -1.36041120e-01,\n",
       "       -1.79257579e-02, -8.62591639e-02, -2.95163542e-01, -1.00999922e-01,\n",
       "        1.62239298e-01,  4.70961601e-01,  2.81508774e-01, -1.32616997e-01,\n",
       "       -5.56244440e-02, -5.74318588e-01, -1.17869779e-01,  6.30873740e-02,\n",
       "        7.78454319e-02,  1.79507658e-01,  1.59148559e-01, -4.09671992e-01,\n",
       "       -4.05021906e-02,  4.79033142e-01,  2.73610562e-01,  1.22979052e-01,\n",
       "       -3.11435282e-01,  2.25634843e-01, -1.00418019e+00, -4.50354427e-01,\n",
       "       -5.13174295e-01, -3.20192486e-01,  4.46046382e-01,  1.59822449e-01,\n",
       "        6.61773756e-02,  5.89616857e-02,  5.23844212e-02, -6.95043087e-01,\n",
       "        2.31509849e-01, -4.73361351e-02,  3.49380225e-01,  2.69333333e-01,\n",
       "       -2.08979249e-01,  6.80646598e-01,  2.29638387e-02, -2.21069425e-01,\n",
       "       -1.92120656e-01,  2.27421507e-01, -2.05825165e-01,  1.63314361e-02,\n",
       "       -2.01752916e-01, -3.78360629e-01, -3.74213725e-01,  4.50327665e-01,\n",
       "       -6.28390536e-03, -5.26747108e-01, -3.86205375e-01,  2.96527594e-01,\n",
       "       -2.39348516e-01, -4.85254489e-02, -2.61960506e-01, -5.70444345e-01,\n",
       "        2.52791852e-01,  1.95154604e-02,  3.04188818e-01, -3.06528419e-01,\n",
       "        7.11249784e-02, -1.86252594e-03, -2.20409948e-02,  6.82415605e-01,\n",
       "       -9.02526677e-02, -1.78723022e-01, -2.36099973e-01, -4.53889996e-01,\n",
       "        3.94166768e-01, -2.08269194e-01,  3.58220190e-03,  7.15345815e-02,\n",
       "        2.56245762e-01, -2.91897431e-02, -3.74593168e-01,  2.66114175e-01,\n",
       "        8.10943991e-02, -3.69219661e-01,  2.46549159e-01,  4.90848422e-01,\n",
       "        1.80068910e-02,  2.41827175e-01, -5.58382511e-01, -3.46316129e-01,\n",
       "       -1.86037570e-01, -3.39627713e-02,  2.50656873e-01, -5.77588022e-01,\n",
       "        1.58065856e-02, -1.23984985e-01, -4.39773828e-01, -4.93836887e-02,\n",
       "       -7.57156491e-01, -1.20045409e-01, -1.79874431e-02, -2.09412664e-01,\n",
       "       -6.42975986e-01, -1.13240726e-01, -1.58589095e-01,  2.99417436e-01,\n",
       "       -2.40860194e-01, -3.59520465e-01,  3.48950148e-01, -7.50184417e-01,\n",
       "        9.73255560e-02,  2.00585932e-01, -2.26686358e-01,  3.41670871e-01,\n",
       "       -3.20295572e-01, -7.57465124e-01,  6.03324212e-02, -5.21224923e-02,\n",
       "        8.94449279e-03, -2.02691317e-01, -3.15493166e-01, -3.64242584e-01,\n",
       "        4.21746254e-01,  1.49895638e-01, -4.14414495e-01,  4.84975070e-01,\n",
       "       -4.53444064e-01,  4.72864687e-01, -2.37309456e-01,  1.01822004e-01,\n",
       "       -5.50955608e-02, -2.83068269e-01,  2.51164436e-01, -7.15584993e-01,\n",
       "       -3.43639672e-01,  1.09116368e-01, -2.33253941e-01,  1.91738635e-01,\n",
       "       -2.91224778e-01, -1.18605219e-01,  2.34863371e-01,  2.06507653e-01,\n",
       "        5.57806075e-01,  1.00816630e-01, -4.66232374e-02, -2.73742139e-01,\n",
       "        1.28387272e-01, -4.71146613e-01,  2.97577381e-01, -2.86168277e-01,\n",
       "        1.10521615e-02, -3.84461880e-01, -2.55437434e-01, -4.30387724e-03,\n",
       "       -1.37532517e-01, -3.21546853e-01, -1.55929830e-02, -3.32999647e-01,\n",
       "       -4.01400268e-01, -4.76184487e-02, -2.72618622e-01, -4.42896366e-01,\n",
       "        1.08955167e-01, -3.78810465e-01,  3.01912636e-01,  6.19176686e-01,\n",
       "        1.20486550e-01,  1.12639159e-01,  1.86380818e-01,  2.27682605e-01,\n",
       "        4.28714082e-02,  2.35712945e-01, -1.33498862e-01, -1.64303243e-01,\n",
       "        6.32730544e-01,  1.30057484e-01,  2.66227156e-01,  1.62100121e-02,\n",
       "        1.06540099e-01,  6.52765036e-02,  4.53194797e-01,  4.40253973e-01,\n",
       "       -9.77405086e-02,  1.52772173e-01,  3.34970057e-01, -5.06020725e-01,\n",
       "        8.83715823e-02,  2.59513170e-01, -1.66674957e-01, -1.77964792e-01,\n",
       "        6.81030989e-01,  3.97319227e-01, -3.75822634e-01,  1.46557197e-01,\n",
       "        5.12764901e-02,  1.24743186e-01, -1.27061889e-01,  1.64952558e-02,\n",
       "        3.14131021e-01,  3.98070291e-02,  4.47695285e-01,  1.92930270e-02,\n",
       "        4.30551350e-01,  3.01570117e-01, -2.13965148e-01, -1.80638507e-01,\n",
       "       -1.65941775e-01,  4.40897793e-01,  7.45734014e-03,  4.67149705e-01,\n",
       "       -2.87725478e-01,  6.44843042e-01,  1.45072187e-03, -2.91034102e-01,\n",
       "       -2.38047972e-01,  1.53469160e-01,  2.42976248e-01, -3.42652202e-02,\n",
       "        3.02157491e-01, -3.23149078e-02,  3.87201160e-01,  6.33660197e-01,\n",
       "        4.51427728e-01,  4.76484537e-01,  3.70069623e-01, -4.83114645e-02,\n",
       "        6.12692177e-01,  4.84231353e-01,  3.83831084e-01,  3.85015637e-01,\n",
       "       -3.30724865e-01, -7.47616813e-02,  1.81479499e-01,  3.80224548e-02,\n",
       "        6.83002055e-01,  4.78862286e-01, -1.40486896e-01,  9.92277086e-01,\n",
       "        3.97926003e-01,  2.46776283e-01,  7.32044458e-01, -6.08070791e-01,\n",
       "       -1.93735987e-01,  2.92524278e-01,  3.53438884e-01, -5.13411164e-01,\n",
       "       -1.90910444e-01,  2.34891519e-01, -1.27677143e-01,  4.43082124e-01,\n",
       "       -1.04773871e-03, -3.76255035e-01, -1.70532510e-01,  4.89858568e-01,\n",
       "       -5.87641262e-02, -2.12937921e-01, -3.22584093e-01,  1.92505151e-01,\n",
       "       -1.25735849e-01, -1.12439163e-01, -6.43887639e-01, -2.42325634e-01,\n",
       "       -3.19956988e-01, -4.27374154e-01, -2.59065419e-01,  9.29710492e-02,\n",
       "       -1.09596010e-02, -4.68965024e-01,  1.05978593e-01, -2.10674390e-01,\n",
       "        1.47912905e-01, -5.39498687e-01, -8.18437263e-02, -6.04201496e-01,\n",
       "        3.53747874e-01,  2.09599495e-01,  4.52388525e-01, -7.20605953e-03,\n",
       "        3.36109638e-01, -3.69466394e-01, -5.08896887e-01,  2.06881195e-01,\n",
       "       -1.61114261e-01,  1.05569474e-01, -7.56288692e-02,  2.06438303e-01,\n",
       "        5.52219860e-02, -3.48609313e-03,  1.68891788e-01,  4.63840455e-01,\n",
       "       -5.80797255e-01, -3.77456024e-02, -2.96049505e-01,  3.02518964e-01,\n",
       "        3.02174568e-01, -3.11510488e-02, -1.89704061e-01,  8.08603838e-02,\n",
       "       -1.56765893e-01, -4.03251588e-01,  4.40329574e-02,  1.85668796e-01,\n",
       "       -1.68697059e-01,  6.37590745e-03,  2.20524937e-01,  9.18205604e-02,\n",
       "       -1.89130098e-01, -2.75474429e-01, -1.37374133e-01,  4.24354672e-01,\n",
       "       -1.15374409e-01,  3.32014799e-01, -1.86834753e-01, -1.92941695e-01,\n",
       "       -1.46835387e-01,  1.26387984e-01, -3.91276509e-01, -8.14827010e-02,\n",
       "        1.93044707e-01,  5.30729711e-01, -2.61614472e-01, -1.97656825e-02,\n",
       "        4.23177034e-01,  1.77247152e-01, -2.82580465e-01, -2.48013198e-01,\n",
       "        5.24517223e-02, -2.24907413e-01, -2.37968087e-01, -1.73636049e-01,\n",
       "        1.07041463e-01, -2.45959595e-01, -3.33590060e-02, -7.91904032e-02,\n",
       "       -2.42125597e-02, -1.64763898e-01,  1.65169805e-01,  1.20200463e-01],\n",
       "      dtype=float32)"
      ]
     },
     "execution_count": 43,
     "metadata": {},
     "output_type": "execute_result"
    }
   ],
   "source": [
    "sample_encoding[0]"
   ]
  },
  {
   "cell_type": "code",
   "execution_count": null,
   "metadata": {},
   "outputs": [],
   "source": []
  }
 ],
 "metadata": {
  "kernelspec": {
   "display_name": "bio3",
   "language": "python",
   "name": "python3"
  },
  "language_info": {
   "codemirror_mode": {
    "name": "ipython",
    "version": 3
   },
   "file_extension": ".py",
   "mimetype": "text/x-python",
   "name": "python",
   "nbconvert_exporter": "python",
   "pygments_lexer": "ipython3",
   "version": "3.11.3"
  }
 },
 "nbformat": 4,
 "nbformat_minor": 2
}
